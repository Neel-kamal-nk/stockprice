{
 "cells": [
  {
   "cell_type": "code",
   "execution_count": 26,
   "metadata": {
    "metadata": {}
   },
   "outputs": [],
   "source": [
    "def text(a):\n",
    "    row = [td.find('span', class_='text').text.strip().replace(',', '') for td in a]\n",
    "    return row"
   ]
  },
  {
   "cell_type": "code",
   "execution_count": 2,
   "metadata": {
    "metadata": {}
   },
   "outputs": [],
   "source": [
    "import requests\n",
    "from bs4 import BeautifulSoup\n",
    "import pandas as pd\n",
    "\n",
    "# url = \"https://in.investing.com/indices/bank-nifty-historical-data?interval_sec=monthly\"\n",
    "\n",
    "# # Set the headers to mimic a browser request\n",
    "# headers = {\n",
    "#     'User-Agent': 'Mozilla/5.0 (Windows NT 10.0; Win64; x64) AppleWebKit/537.36 (KHTML, like Gecko) Chrome/91.0.4472.124 Safari/537.36',\n",
    "#     'Referer': 'https://in.investing.com'\n",
    "# }\n",
    "\n",
    "# # Send a GET request to the URL\n",
    "# response = requests.get(url, headers=headers)\n",
    "\n",
    "# # Parse the HTML content\n",
    "# soup = BeautifulSoup(response.content, 'html.parser')\n",
    "\n",
    "# # Find the header text\n",
    "# # header_text = soup.find_all('div', class_='th-wrapper')\n",
    "\n",
    "# div_elements = soup.find_all('div', class_='th-wrapper')\n",
    "\n",
    "# # Extract text from the span elements within the div elements\n",
    "# header_text = [div.find('span', class_='text').text.strip() for div in div_elements][:7]\n",
    "\n",
    "\n",
    "# # Find the table rows containing the desired data1\n",
    "# row_0 = text(soup.find_all('td', class_='col-rowDate'))\n",
    "# row_1 = text(soup.find_all('td', class_='col-last_close'))\n",
    "# row_2 = text(soup.find_all('td', class_='col-last_open'))\n",
    "# row_3 = text(soup.find_all('td', class_='col-last_max'))\n",
    "# row_4 = text(soup.find_all('td', class_='col-last_min'))\n",
    "# row_5 = text(soup.find_all('td', class_='col-volume'))[:24]\n",
    "# row_6 = text(soup.find_all('td', class_='col-change_percent'))\n",
    "\n",
    "\n",
    "# #Preparing DataFrame\n",
    "# d = {header_text[0]: row_0, header_text[1]: row_1, header_text[2]: row_2, header_text[3]: row_3, header_text[4]: row_4 ,header_text[5]: row_5, header_text[6]: row_6}\n",
    "# dataframe = pd.DataFrame(d)\n",
    "# dataframe.head(5)"
   ]
  },
  {
   "cell_type": "code",
   "execution_count": 28,
   "metadata": {
    "metadata": {}
   },
   "outputs": [],
   "source": [
    "# dataframe.to_csv(\"stock.csv\", index=False)"
   ]
  },
  {
   "cell_type": "code",
   "execution_count": 3,
   "metadata": {},
   "outputs": [
    {
     "data": {
      "text/html": [
       "<div>\n",
       "<style scoped>\n",
       "    .dataframe tbody tr th:only-of-type {\n",
       "        vertical-align: middle;\n",
       "    }\n",
       "\n",
       "    .dataframe tbody tr th {\n",
       "        vertical-align: top;\n",
       "    }\n",
       "\n",
       "    .dataframe thead th {\n",
       "        text-align: right;\n",
       "    }\n",
       "</style>\n",
       "<table border=\"1\" class=\"dataframe\">\n",
       "  <thead>\n",
       "    <tr style=\"text-align: right;\">\n",
       "      <th></th>\n",
       "      <th>Date</th>\n",
       "      <th>Price</th>\n",
       "      <th>Open</th>\n",
       "      <th>High</th>\n",
       "      <th>Low</th>\n",
       "      <th>Volume</th>\n",
       "      <th>Chg%</th>\n",
       "    </tr>\n",
       "  </thead>\n",
       "  <tbody>\n",
       "    <tr>\n",
       "      <th>0</th>\n",
       "      <td>May 2024</td>\n",
       "      <td>48923.55</td>\n",
       "      <td>49273.90</td>\n",
       "      <td>49607.75</td>\n",
       "      <td>48659.70</td>\n",
       "      <td>222.96M</td>\n",
       "      <td>-0.96%</td>\n",
       "    </tr>\n",
       "    <tr>\n",
       "      <th>1</th>\n",
       "      <td>Apr 2024</td>\n",
       "      <td>49396.75</td>\n",
       "      <td>47391.05</td>\n",
       "      <td>49974.75</td>\n",
       "      <td>46579.05</td>\n",
       "      <td>4.45B</td>\n",
       "      <td>4.82%</td>\n",
       "    </tr>\n",
       "    <tr>\n",
       "      <th>2</th>\n",
       "      <td>Mar 2024</td>\n",
       "      <td>47124.60</td>\n",
       "      <td>46218.00</td>\n",
       "      <td>48161.25</td>\n",
       "      <td>45828.80</td>\n",
       "      <td>3.85B</td>\n",
       "      <td>2.18%</td>\n",
       "    </tr>\n",
       "    <tr>\n",
       "      <th>3</th>\n",
       "      <td>Feb 2024</td>\n",
       "      <td>46120.90</td>\n",
       "      <td>46164.90</td>\n",
       "      <td>47363.40</td>\n",
       "      <td>44633.85</td>\n",
       "      <td>5.33B</td>\n",
       "      <td>0.27%</td>\n",
       "    </tr>\n",
       "    <tr>\n",
       "      <th>4</th>\n",
       "      <td>Jan 2024</td>\n",
       "      <td>45996.80</td>\n",
       "      <td>48203.45</td>\n",
       "      <td>48450.00</td>\n",
       "      <td>44429.00</td>\n",
       "      <td>5.52B</td>\n",
       "      <td>-4.75%</td>\n",
       "    </tr>\n",
       "  </tbody>\n",
       "</table>\n",
       "</div>"
      ],
      "text/plain": [
       "       Date     Price      Open      High       Low   Volume    Chg%\n",
       "0  May 2024  48923.55  49273.90  49607.75  48659.70  222.96M  -0.96%\n",
       "1  Apr 2024  49396.75  47391.05  49974.75  46579.05    4.45B   4.82%\n",
       "2  Mar 2024  47124.60  46218.00  48161.25  45828.80    3.85B   2.18%\n",
       "3  Feb 2024  46120.90  46164.90  47363.40  44633.85    5.33B   0.27%\n",
       "4  Jan 2024  45996.80  48203.45  48450.00  44429.00    5.52B  -4.75%"
      ]
     },
     "execution_count": 3,
     "metadata": {},
     "output_type": "execute_result"
    }
   ],
   "source": [
    "df2 = pd.read_csv(\"stock.csv\")\n",
    "df2.head(5)"
   ]
  },
  {
   "cell_type": "code",
   "execution_count": 7,
   "metadata": {},
   "outputs": [
    {
     "data": {
      "text/plain": [
       "count       24.000000\n",
       "mean     44346.608333\n",
       "std       3570.296603\n",
       "min      35958.450000\n",
       "25%      41971.775000\n",
       "50%      44604.575000\n",
       "75%      46617.975000\n",
       "max      49974.750000\n",
       "Name: High, dtype: float64"
      ]
     },
     "execution_count": 7,
     "metadata": {},
     "output_type": "execute_result"
    }
   ],
   "source": [
    "df2['High'].describe()"
   ]
  },
  {
   "cell_type": "code",
   "execution_count": 29,
   "metadata": {
    "metadata": {}
   },
   "outputs": [
    {
     "name": "stderr",
     "output_type": "stream",
     "text": [
      "C:\\Users\\neelk\\AppData\\Local\\Temp\\ipykernel_1164\\1787085767.py:1: UserWarning: Could not infer format, so each element will be parsed individually, falling back to `dateutil`. To ensure parsing is consistent and as-expected, please specify a format.\n",
      "  df = pd.read_csv(\"stock.csv\", index_col='Date', parse_dates=True)\n"
     ]
    },
    {
     "data": {
      "text/html": [
       "<div>\n",
       "<style scoped>\n",
       "    .dataframe tbody tr th:only-of-type {\n",
       "        vertical-align: middle;\n",
       "    }\n",
       "\n",
       "    .dataframe tbody tr th {\n",
       "        vertical-align: top;\n",
       "    }\n",
       "\n",
       "    .dataframe thead th {\n",
       "        text-align: right;\n",
       "    }\n",
       "</style>\n",
       "<table border=\"1\" class=\"dataframe\">\n",
       "  <thead>\n",
       "    <tr style=\"text-align: right;\">\n",
       "      <th></th>\n",
       "      <th>Price</th>\n",
       "      <th>Open</th>\n",
       "      <th>High</th>\n",
       "      <th>Low</th>\n",
       "      <th>Volume</th>\n",
       "      <th>Chg%</th>\n",
       "    </tr>\n",
       "    <tr>\n",
       "      <th>Date</th>\n",
       "      <th></th>\n",
       "      <th></th>\n",
       "      <th></th>\n",
       "      <th></th>\n",
       "      <th></th>\n",
       "      <th></th>\n",
       "    </tr>\n",
       "  </thead>\n",
       "  <tbody>\n",
       "    <tr>\n",
       "      <th>2024-05-01</th>\n",
       "      <td>48923.55</td>\n",
       "      <td>49273.90</td>\n",
       "      <td>49607.75</td>\n",
       "      <td>48659.70</td>\n",
       "      <td>222.96M</td>\n",
       "      <td>-0.96%</td>\n",
       "    </tr>\n",
       "    <tr>\n",
       "      <th>2024-04-01</th>\n",
       "      <td>49396.75</td>\n",
       "      <td>47391.05</td>\n",
       "      <td>49974.75</td>\n",
       "      <td>46579.05</td>\n",
       "      <td>4.45B</td>\n",
       "      <td>4.82%</td>\n",
       "    </tr>\n",
       "    <tr>\n",
       "      <th>2024-03-01</th>\n",
       "      <td>47124.60</td>\n",
       "      <td>46218.00</td>\n",
       "      <td>48161.25</td>\n",
       "      <td>45828.80</td>\n",
       "      <td>3.85B</td>\n",
       "      <td>2.18%</td>\n",
       "    </tr>\n",
       "    <tr>\n",
       "      <th>2024-02-01</th>\n",
       "      <td>46120.90</td>\n",
       "      <td>46164.90</td>\n",
       "      <td>47363.40</td>\n",
       "      <td>44633.85</td>\n",
       "      <td>5.33B</td>\n",
       "      <td>0.27%</td>\n",
       "    </tr>\n",
       "    <tr>\n",
       "      <th>2024-01-01</th>\n",
       "      <td>45996.80</td>\n",
       "      <td>48203.45</td>\n",
       "      <td>48450.00</td>\n",
       "      <td>44429.00</td>\n",
       "      <td>5.52B</td>\n",
       "      <td>-4.75%</td>\n",
       "    </tr>\n",
       "  </tbody>\n",
       "</table>\n",
       "</div>"
      ],
      "text/plain": [
       "               Price      Open      High       Low   Volume    Chg%\n",
       "Date                                                               \n",
       "2024-05-01  48923.55  49273.90  49607.75  48659.70  222.96M  -0.96%\n",
       "2024-04-01  49396.75  47391.05  49974.75  46579.05    4.45B   4.82%\n",
       "2024-03-01  47124.60  46218.00  48161.25  45828.80    3.85B   2.18%\n",
       "2024-02-01  46120.90  46164.90  47363.40  44633.85    5.33B   0.27%\n",
       "2024-01-01  45996.80  48203.45  48450.00  44429.00    5.52B  -4.75%"
      ]
     },
     "execution_count": 29,
     "metadata": {},
     "output_type": "execute_result"
    }
   ],
   "source": [
    "df = pd.read_csv(\"stock.csv\", index_col='Date', parse_dates=True)\n",
    "df.head(5)"
   ]
  },
  {
   "cell_type": "code",
   "execution_count": 30,
   "metadata": {
    "metadata": {}
   },
   "outputs": [],
   "source": [
    "# df['High'] = pd.to_numeric(df['High'].str.replace(',', ''))\n",
    "# df['Low'] = pd.to_numeric(df['Low'].str.replace(',', ''))"
   ]
  },
  {
   "cell_type": "code",
   "execution_count": 31,
   "metadata": {
    "metadata": {}
   },
   "outputs": [
    {
     "data": {
      "text/plain": [
       "Text(0.5, 0, 'Date')"
      ]
     },
     "execution_count": 31,
     "metadata": {},
     "output_type": "execute_result"
    },
    {
     "data": {
      "image/png": "[encoded data removed]",
      "text/plain": [
       "<Figure size 1200x500 with 1 Axes>"
      ]
     },
     "metadata": {},
     "output_type": "display_data"
    }
   ],
   "source": [
    "#Visiualizing Data\n",
    "import matplotlib.pyplot as plt\n",
    "df['High'].plot(figsize=(12,5))\n",
    "df['Low'].plot()\n",
    "plt.legend()\n",
    "plt.xlabel('Date')"
   ]
  },
  {
   "cell_type": "code",
   "execution_count": 43,
   "metadata": {},
   "outputs": [],
   "source": [
    "from statsmodels.tsa.stattools import adfuller\n",
    "def ad_test(dataset):\n",
    "    dftest = adfuller(dataset, autolag = 'AIC')\n",
    "    print(\"1. ADF: \",dftest[0])\n",
    "    print(\"2. P-Value: \", dftest [1])\n",
    "    print(\"3. Num Of Lags: \", dftest [2])\n",
    "    print(\"4. Num Of Observations Used For ADF Regression and Critical Values Calculation :\", dftest [3])\n",
    "    print(\"5. Critical Values :\")\n",
    "    for key, val in dftest[4].items():\n",
    "        print(\"\\t\",key, val)"
   ]
  },
  {
   "cell_type": "code",
   "execution_count": 46,
   "metadata": {},
   "outputs": [
    {
     "name": "stdout",
     "output_type": "stream",
     "text": [
      "1. ADF:  0.09756190156712743\n",
      "2. P-Value:  0.965894239036324\n",
      "3. Num Of Lags:  0\n",
      "4. Num Of Observations Used For ADF Regression and Critical Values Calculation : 23\n",
      "5. Critical Values :\n",
      "\t 1% -3.7529275211638033\n",
      "\t 5% -2.998499866852963\n",
      "\t 10% -2.6389669754253307\n"
     ]
    }
   ],
   "source": [
    "ad_test(df['High'])"
   ]
  },
  {
   "cell_type": "code",
   "execution_count": 45,
   "metadata": {},
   "outputs": [
    {
     "name": "stdout",
     "output_type": "stream",
     "text": [
      "1. ADF:  2.6618105695391723\n",
      "2. P-Value:  0.9990840460143352\n",
      "3. Num Of Lags:  9\n",
      "4. Num Of Observations Used For ADF Regression and Critical Values Calculation : 14\n",
      "5. Critical Values :\n",
      "\t 1% -4.01203360058309\n",
      "\t 5% -3.1041838775510207\n",
      "\t 10% -2.6909873469387753\n"
     ]
    }
   ],
   "source": [
    "ad_test(df['Low'])"
   ]
  },
  {
   "cell_type": "code",
   "execution_count": 50,
   "metadata": {},
   "outputs": [
    {
     "name": "stdout",
     "output_type": "stream",
     "text": [
      "Performing stepwise search to minimize aic\n",
      " ARIMA(2,1,2)(0,0,0)[0] intercept   : AIC=inf, Time=0.20 sec\n",
      " ARIMA(0,1,0)(0,0,0)[0] intercept   : AIC=400.053, Time=0.02 sec\n",
      " ARIMA(1,1,0)(0,0,0)[0] intercept   : AIC=401.505, Time=0.02 sec\n",
      " ARIMA(0,1,1)(0,0,0)[0] intercept   : AIC=401.689, Time=0.03 sec\n",
      " ARIMA(0,1,0)(0,0,0)[0]             : AIC=402.245, Time=0.01 sec\n",
      " ARIMA(1,1,1)(0,0,0)[0] intercept   : AIC=402.892, Time=0.10 sec\n",
      "\n",
      "Best model:  ARIMA(0,1,0)(0,0,0)[0] intercept\n",
      "Total fit time: 0.386 seconds\n"
     ]
    },
    {
     "data": {
      "text/html": [
       "<table class=\"simpletable\">\n",
       "<caption>SARIMAX Results</caption>\n",
       "<tr>\n",
       "  <th>Dep. Variable:</th>           <td>y</td>        <th>  No. Observations:  </th>    <td>24</td>   \n",
       "</tr>\n",
       "<tr>\n",
       "  <th>Model:</th>           <td>SARIMAX(0, 1, 0)</td> <th>  Log Likelihood     </th> <td>-198.026</td>\n",
       "</tr>\n",
       "<tr>\n",
       "  <th>Date:</th>            <td>Sun, 05 May 2024</td> <th>  AIC                </th>  <td>400.053</td>\n",
       "</tr>\n",
       "<tr>\n",
       "  <th>Time:</th>                <td>11:18:33</td>     <th>  BIC                </th>  <td>402.324</td>\n",
       "</tr>\n",
       "<tr>\n",
       "  <th>Sample:</th>                  <td>0</td>        <th>  HQIC               </th>  <td>400.624</td>\n",
       "</tr>\n",
       "<tr>\n",
       "  <th></th>                       <td> - 24</td>      <th>                     </th>     <td> </td>   \n",
       "</tr>\n",
       "<tr>\n",
       "  <th>Covariance Type:</th>        <td>opg</td>       <th>                     </th>     <td> </td>   \n",
       "</tr>\n",
       "</table>\n",
       "<table class=\"simpletable\">\n",
       "<tr>\n",
       "      <td></td>         <th>coef</th>     <th>std err</th>      <th>z</th>      <th>P>|z|</th>  <th>[0.025</th>    <th>0.975]</th>  \n",
       "</tr>\n",
       "<tr>\n",
       "  <th>intercept</th> <td> -593.4478</td> <td>  285.669</td> <td>   -2.077</td> <td> 0.038</td> <td>-1153.348</td> <td>  -33.547</td>\n",
       "</tr>\n",
       "<tr>\n",
       "  <th>sigma2</th>    <td> 1.762e+06</td> <td> 5.83e+05</td> <td>    3.024</td> <td> 0.002</td> <td>  6.2e+05</td> <td>  2.9e+06</td>\n",
       "</tr>\n",
       "</table>\n",
       "<table class=\"simpletable\">\n",
       "<tr>\n",
       "  <th>Ljung-Box (L1) (Q):</th>     <td>0.02</td> <th>  Jarque-Bera (JB):  </th> <td>0.49</td> \n",
       "</tr>\n",
       "<tr>\n",
       "  <th>Prob(Q):</th>                <td>0.90</td> <th>  Prob(JB):          </th> <td>0.78</td> \n",
       "</tr>\n",
       "<tr>\n",
       "  <th>Heteroskedasticity (H):</th> <td>0.64</td> <th>  Skew:              </th> <td>-0.32</td>\n",
       "</tr>\n",
       "<tr>\n",
       "  <th>Prob(H) (two-sided):</th>    <td>0.55</td> <th>  Kurtosis:          </th> <td>2.69</td> \n",
       "</tr>\n",
       "</table><br/><br/>Warnings:<br/>[1] Covariance matrix calculated using the outer product of gradients (complex-step)."
      ],
      "text/latex": [
       "\\begin{center}\n",
       "\\begin{tabular}{lclc}\n",
       "\\toprule\n",
       "\\textbf{Dep. Variable:}          &        y         & \\textbf{  No. Observations:  } &     24      \\\\\n",
       "\\textbf{Model:}                  & SARIMAX(0, 1, 0) & \\textbf{  Log Likelihood     } &  -198.026   \\\\\n",
       "\\textbf{Date:}                   & Sun, 05 May 2024 & \\textbf{  AIC                } &  400.053    \\\\\n",
       "\\textbf{Time:}                   &     11:18:33     & \\textbf{  BIC                } &  402.324    \\\\\n",
       "\\textbf{Sample:}                 &        0         & \\textbf{  HQIC               } &  400.624    \\\\\n",
       "\\textbf{}                        &       - 24       & \\textbf{                     } &             \\\\\n",
       "\\textbf{Covariance Type:}        &       opg        & \\textbf{                     } &             \\\\\n",
       "\\bottomrule\n",
       "\\end{tabular}\n",
       "\\begin{tabular}{lcccccc}\n",
       "                   & \\textbf{coef} & \\textbf{std err} & \\textbf{z} & \\textbf{P$> |$z$|$} & \\textbf{[0.025} & \\textbf{0.975]}  \\\\\n",
       "\\midrule\n",
       "\\textbf{intercept} &    -593.4478  &      285.669     &    -2.077  &         0.038        &    -1153.348    &      -33.547     \\\\\n",
       "\\textbf{sigma2}    &    1.762e+06  &     5.83e+05     &     3.024  &         0.002        &      6.2e+05    &      2.9e+06     \\\\\n",
       "\\bottomrule\n",
       "\\end{tabular}\n",
       "\\begin{tabular}{lclc}\n",
       "\\textbf{Ljung-Box (L1) (Q):}     & 0.02 & \\textbf{  Jarque-Bera (JB):  } &  0.49  \\\\\n",
       "\\textbf{Prob(Q):}                & 0.90 & \\textbf{  Prob(JB):          } &  0.78  \\\\\n",
       "\\textbf{Heteroskedasticity (H):} & 0.64 & \\textbf{  Skew:              } & -0.32  \\\\\n",
       "\\textbf{Prob(H) (two-sided):}    & 0.55 & \\textbf{  Kurtosis:          } &  2.69  \\\\\n",
       "\\bottomrule\n",
       "\\end{tabular}\n",
       "%\\caption{SARIMAX Results}\n",
       "\\end{center}\n",
       "\n",
       "Warnings: \\newline\n",
       " [1] Covariance matrix calculated using the outer product of gradients (complex-step)."
      ],
      "text/plain": [
       "<class 'statsmodels.iolib.summary.Summary'>\n",
       "\"\"\"\n",
       "                               SARIMAX Results                                \n",
       "==============================================================================\n",
       "Dep. Variable:                      y   No. Observations:                   24\n",
       "Model:               SARIMAX(0, 1, 0)   Log Likelihood                -198.026\n",
       "Date:                Sun, 05 May 2024   AIC                            400.053\n",
       "Time:                        11:18:33   BIC                            402.324\n",
       "Sample:                             0   HQIC                           400.624\n",
       "                                 - 24                                         \n",
       "Covariance Type:                  opg                                         \n",
       "==============================================================================\n",
       "                 coef    std err          z      P>|z|      [0.025      0.975]\n",
       "------------------------------------------------------------------------------\n",
       "intercept   -593.4478    285.669     -2.077      0.038   -1153.348     -33.547\n",
       "sigma2      1.762e+06   5.83e+05      3.024      0.002     6.2e+05     2.9e+06\n",
       "===================================================================================\n",
       "Ljung-Box (L1) (Q):                   0.02   Jarque-Bera (JB):                 0.49\n",
       "Prob(Q):                              0.90   Prob(JB):                         0.78\n",
       "Heteroskedasticity (H):               0.64   Skew:                            -0.32\n",
       "Prob(H) (two-sided):                  0.55   Kurtosis:                         2.69\n",
       "===================================================================================\n",
       "\n",
       "Warnings:\n",
       "[1] Covariance matrix calculated using the outer product of gradients (complex-step).\n",
       "\"\"\""
      ]
     },
     "execution_count": 50,
     "metadata": {},
     "output_type": "execute_result"
    }
   ],
   "source": [
    "from pmdarima import auto_arima\n",
    "# Ignore harmless warnings\n",
    "import warnings\n",
    "warnings.filterwarnings(\"ignore\")\n",
    "stepwise_fit = auto_arima (df['High'], trace=True,suppress_warnings=True)\n",
    "\n",
    "stepwise_fit.summary()"
   ]
  },
  {
   "cell_type": "code",
   "execution_count": 32,
   "metadata": {
    "metadata": {}
   },
   "outputs": [],
   "source": [
    "from statsmodels.tsa.arima.model import ARIMA\n",
    "from sklearn.metrics import mean_squared_error\n",
    "import numpy as np"
   ]
  },
  {
   "cell_type": "code",
   "execution_count": 33,
   "metadata": {},
   "outputs": [],
   "source": [
    "# from datetime import datetime\n",
    "# parsed_dates = [datetime.strptime(date, \"%b %Y\") for date in dates]"
   ]
  },
  {
   "cell_type": "code",
   "execution_count": 34,
   "metadata": {
    "metadata": {}
   },
   "outputs": [
    {
     "data": {
      "text/html": [
       "<div>\n",
       "<style scoped>\n",
       "    .dataframe tbody tr th:only-of-type {\n",
       "        vertical-align: middle;\n",
       "    }\n",
       "\n",
       "    .dataframe tbody tr th {\n",
       "        vertical-align: top;\n",
       "    }\n",
       "\n",
       "    .dataframe thead th {\n",
       "        text-align: right;\n",
       "    }\n",
       "</style>\n",
       "<table border=\"1\" class=\"dataframe\">\n",
       "  <thead>\n",
       "    <tr style=\"text-align: right;\">\n",
       "      <th></th>\n",
       "      <th>Price</th>\n",
       "      <th>Open</th>\n",
       "      <th>High</th>\n",
       "      <th>Low</th>\n",
       "      <th>Volume</th>\n",
       "      <th>Chg%</th>\n",
       "    </tr>\n",
       "    <tr>\n",
       "      <th>Date</th>\n",
       "      <th></th>\n",
       "      <th></th>\n",
       "      <th></th>\n",
       "      <th></th>\n",
       "      <th></th>\n",
       "      <th></th>\n",
       "    </tr>\n",
       "  </thead>\n",
       "  <tbody>\n",
       "    <tr>\n",
       "      <th>2024-05-01</th>\n",
       "      <td>48923.55</td>\n",
       "      <td>49273.90</td>\n",
       "      <td>49607.75</td>\n",
       "      <td>48659.70</td>\n",
       "      <td>222.96M</td>\n",
       "      <td>-0.96%</td>\n",
       "    </tr>\n",
       "    <tr>\n",
       "      <th>2024-04-01</th>\n",
       "      <td>49396.75</td>\n",
       "      <td>47391.05</td>\n",
       "      <td>49974.75</td>\n",
       "      <td>46579.05</td>\n",
       "      <td>4.45B</td>\n",
       "      <td>4.82%</td>\n",
       "    </tr>\n",
       "    <tr>\n",
       "      <th>2024-03-01</th>\n",
       "      <td>47124.60</td>\n",
       "      <td>46218.00</td>\n",
       "      <td>48161.25</td>\n",
       "      <td>45828.80</td>\n",
       "      <td>3.85B</td>\n",
       "      <td>2.18%</td>\n",
       "    </tr>\n",
       "    <tr>\n",
       "      <th>2024-02-01</th>\n",
       "      <td>46120.90</td>\n",
       "      <td>46164.90</td>\n",
       "      <td>47363.40</td>\n",
       "      <td>44633.85</td>\n",
       "      <td>5.33B</td>\n",
       "      <td>0.27%</td>\n",
       "    </tr>\n",
       "    <tr>\n",
       "      <th>2024-01-01</th>\n",
       "      <td>45996.80</td>\n",
       "      <td>48203.45</td>\n",
       "      <td>48450.00</td>\n",
       "      <td>44429.00</td>\n",
       "      <td>5.52B</td>\n",
       "      <td>-4.75%</td>\n",
       "    </tr>\n",
       "  </tbody>\n",
       "</table>\n",
       "</div>"
      ],
      "text/plain": [
       "               Price      Open      High       Low   Volume    Chg%\n",
       "Date                                                               \n",
       "2024-05-01  48923.55  49273.90  49607.75  48659.70  222.96M  -0.96%\n",
       "2024-04-01  49396.75  47391.05  49974.75  46579.05    4.45B   4.82%\n",
       "2024-03-01  47124.60  46218.00  48161.25  45828.80    3.85B   2.18%\n",
       "2024-02-01  46120.90  46164.90  47363.40  44633.85    5.33B   0.27%\n",
       "2024-01-01  45996.80  48203.45  48450.00  44429.00    5.52B  -4.75%"
      ]
     },
     "execution_count": 34,
     "metadata": {},
     "output_type": "execute_result"
    }
   ],
   "source": [
    "df.head(5)"
   ]
  },
  {
   "cell_type": "code",
   "execution_count": null,
   "metadata": {},
   "outputs": [],
   "source": [
    "2024-01-01         43269.03\n",
    "2024-02-01         43358.99\n",
    "2024-03-01         43404.75\n",
    "2024-04-01         43375.58\n",
    "2024-05-01         43366.07"
   ]
  },
  {
   "cell_type": "code",
   "execution_count": 9,
   "metadata": {
    "metadata": {}
   },
   "outputs": [
    {
     "ename": "NameError",
     "evalue": "name 'df' is not defined",
     "output_type": "error",
     "traceback": [
      "\u001b[1;31m---------------------------------------------------------------------------\u001b[0m",
      "\u001b[1;31mNameError\u001b[0m                                 Traceback (most recent call last)",
      "Cell \u001b[1;32mIn[9], line 2\u001b[0m\n\u001b[0;32m      1\u001b[0m \u001b[38;5;66;03m# Split data into training and testing sets\u001b[39;00m\n\u001b[1;32m----> 2\u001b[0m train_size \u001b[38;5;241m=\u001b[39m \u001b[38;5;28mint\u001b[39m(\u001b[38;5;28mlen\u001b[39m(\u001b[43mdf\u001b[49m) \u001b[38;5;241m*\u001b[39m \u001b[38;5;241m0.8\u001b[39m)\n\u001b[0;32m      3\u001b[0m train_data, test_data \u001b[38;5;241m=\u001b[39m df\u001b[38;5;241m.\u001b[39miloc[:train_size], df\u001b[38;5;241m.\u001b[39miloc[train_size:]\n\u001b[0;32m      5\u001b[0m \u001b[38;5;66;03m# Define and fit the ARIMA model\u001b[39;00m\n",
      "\u001b[1;31mNameError\u001b[0m: name 'df' is not defined"
     ]
    }
   ],
   "source": [
    "\n",
    "# Split data into training and testing sets\n",
    "train_size = int(len(df) * 0.8)\n",
    "train_data, test_data = df.iloc[:train_size], df.iloc[train_size:]\n",
    "\n",
    "# Define and fit the ARIMA model\n",
    "model = ARIMA(train_data['High'], order=(5, 1, 0))  # Example ARIMA order\n",
    "model_fit = model.fit()\n",
    "\n",
    "# Make predictions\n",
    "predictions = model_fit.forecast(steps=len(test_data))\n",
    "\n",
    "# Evaluate the model\n",
    "mse = mean_squared_error(test_data['High'], predictions)\n",
    "rmse = np.sqrt(mse)\n",
    "print(f'Root Mean Squared Error (RMSE): {rmse:.2f}')\n",
    "\n",
    "# Forecast future prices\n",
    "future_dates = pd.date_range(start=df.index[len(test_data)-1], periods=5, freq='MS')\n",
    "future_predictions = model_fit.forecast(steps=5)\n",
    "future_predictions = [round(pred, 2) for pred in future_predictions]\n",
    "# Print forecasted prices\n",
    "future_forecast = pd.DataFrame(future_predictions, index=future_dates, columns=['High Prediction'])\n",
    "print(future_forecast)"
   ]
  },
  {
   "cell_type": "code",
   "execution_count": 8,
   "metadata": {},
   "outputs": [
    {
     "ename": "NameError",
     "evalue": "name 'future_forecast' is not defined",
     "output_type": "error",
     "traceback": [
      "\u001b[1;31m---------------------------------------------------------------------------\u001b[0m",
      "\u001b[1;31mNameError\u001b[0m                                 Traceback (most recent call last)",
      "Cell \u001b[1;32mIn[8], line 1\u001b[0m\n\u001b[1;32m----> 1\u001b[0m \u001b[43mfuture_forecast\u001b[49m\u001b[38;5;241m.\u001b[39mplot(figsize\u001b[38;5;241m=\u001b[39m(\u001b[38;5;241m12\u001b[39m,\u001b[38;5;241m5\u001b[39m))\n\u001b[0;32m      2\u001b[0m df[\u001b[38;5;124m'\u001b[39m\u001b[38;5;124mHigh\u001b[39m\u001b[38;5;124m'\u001b[39m]\u001b[38;5;241m.\u001b[39mplot()\n",
      "\u001b[1;31mNameError\u001b[0m: name 'future_forecast' is not defined"
     ]
    }
   ],
   "source": [
    "future_forecast.plot(figsize=(12,5))\n",
    "df['High'].plot()"
   ]
  },
  {
   "cell_type": "code",
   "execution_count": 69,
   "metadata": {},
   "outputs": [
    {
     "data": {
      "text/plain": [
       "44346.60833333333"
      ]
     },
     "execution_count": 69,
     "metadata": {},
     "output_type": "execute_result"
    }
   ],
   "source": [
    "df['High'].mean()"
   ]
  },
  {
   "cell_type": "code",
   "execution_count": 58,
   "metadata": {},
   "outputs": [
    {
     "data": {
      "text/html": [
       "<table class=\"simpletable\">\n",
       "<caption>SARIMAX Results</caption>\n",
       "<tr>\n",
       "  <th>Dep. Variable:</th>         <td>High</td>       <th>  No. Observations:  </th>    <td>19</td>   \n",
       "</tr>\n",
       "<tr>\n",
       "  <th>Model:</th>            <td>ARIMA(5, 1, 0)</td>  <th>  Log Likelihood     </th> <td>-153.758</td>\n",
       "</tr>\n",
       "<tr>\n",
       "  <th>Date:</th>            <td>Sun, 05 May 2024</td> <th>  AIC                </th>  <td>319.517</td>\n",
       "</tr>\n",
       "<tr>\n",
       "  <th>Time:</th>                <td>11:32:22</td>     <th>  BIC                </th>  <td>324.859</td>\n",
       "</tr>\n",
       "<tr>\n",
       "  <th>Sample:</th>                  <td>0</td>        <th>  HQIC               </th>  <td>320.254</td>\n",
       "</tr>\n",
       "<tr>\n",
       "  <th></th>                       <td> - 19</td>      <th>                     </th>     <td> </td>   \n",
       "</tr>\n",
       "<tr>\n",
       "  <th>Covariance Type:</th>        <td>opg</td>       <th>                     </th>     <td> </td>   \n",
       "</tr>\n",
       "</table>\n",
       "<table class=\"simpletable\">\n",
       "<tr>\n",
       "     <td></td>       <th>coef</th>     <th>std err</th>      <th>z</th>      <th>P>|z|</th>  <th>[0.025</th>    <th>0.975]</th>  \n",
       "</tr>\n",
       "<tr>\n",
       "  <th>ar.L1</th>  <td>    0.0114</td> <td>    0.696</td> <td>    0.016</td> <td> 0.987</td> <td>   -1.353</td> <td>    1.376</td>\n",
       "</tr>\n",
       "<tr>\n",
       "  <th>ar.L2</th>  <td>   -0.0612</td> <td>    0.195</td> <td>   -0.314</td> <td> 0.754</td> <td>   -0.443</td> <td>    0.321</td>\n",
       "</tr>\n",
       "<tr>\n",
       "  <th>ar.L3</th>  <td>   -0.0211</td> <td>    0.354</td> <td>   -0.060</td> <td> 0.952</td> <td>   -0.715</td> <td>    0.672</td>\n",
       "</tr>\n",
       "<tr>\n",
       "  <th>ar.L4</th>  <td>    0.0334</td> <td>    0.417</td> <td>    0.080</td> <td> 0.936</td> <td>   -0.785</td> <td>    0.851</td>\n",
       "</tr>\n",
       "<tr>\n",
       "  <th>ar.L5</th>  <td>    0.0026</td> <td>    0.291</td> <td>    0.009</td> <td> 0.993</td> <td>   -0.567</td> <td>    0.572</td>\n",
       "</tr>\n",
       "<tr>\n",
       "  <th>sigma2</th> <td> 1.863e+06</td> <td> 9.63e+05</td> <td>    1.934</td> <td> 0.053</td> <td>-2.47e+04</td> <td> 3.75e+06</td>\n",
       "</tr>\n",
       "</table>\n",
       "<table class=\"simpletable\">\n",
       "<tr>\n",
       "  <th>Ljung-Box (L1) (Q):</th>     <td>0.02</td> <th>  Jarque-Bera (JB):  </th> <td>6.32</td> \n",
       "</tr>\n",
       "<tr>\n",
       "  <th>Prob(Q):</th>                <td>0.88</td> <th>  Prob(JB):          </th> <td>0.04</td> \n",
       "</tr>\n",
       "<tr>\n",
       "  <th>Heteroskedasticity (H):</th> <td>0.52</td> <th>  Skew:              </th> <td>-1.17</td>\n",
       "</tr>\n",
       "<tr>\n",
       "  <th>Prob(H) (two-sided):</th>    <td>0.45</td> <th>  Kurtosis:          </th> <td>4.72</td> \n",
       "</tr>\n",
       "</table><br/><br/>Warnings:<br/>[1] Covariance matrix calculated using the outer product of gradients (complex-step)."
      ],
      "text/latex": [
       "\\begin{center}\n",
       "\\begin{tabular}{lclc}\n",
       "\\toprule\n",
       "\\textbf{Dep. Variable:}          &       High       & \\textbf{  No. Observations:  } &     19      \\\\\n",
       "\\textbf{Model:}                  &  ARIMA(5, 1, 0)  & \\textbf{  Log Likelihood     } &  -153.758   \\\\\n",
       "\\textbf{Date:}                   & Sun, 05 May 2024 & \\textbf{  AIC                } &  319.517    \\\\\n",
       "\\textbf{Time:}                   &     11:32:22     & \\textbf{  BIC                } &  324.859    \\\\\n",
       "\\textbf{Sample:}                 &        0         & \\textbf{  HQIC               } &  320.254    \\\\\n",
       "\\textbf{}                        &       - 19       & \\textbf{                     } &             \\\\\n",
       "\\textbf{Covariance Type:}        &       opg        & \\textbf{                     } &             \\\\\n",
       "\\bottomrule\n",
       "\\end{tabular}\n",
       "\\begin{tabular}{lcccccc}\n",
       "                & \\textbf{coef} & \\textbf{std err} & \\textbf{z} & \\textbf{P$> |$z$|$} & \\textbf{[0.025} & \\textbf{0.975]}  \\\\\n",
       "\\midrule\n",
       "\\textbf{ar.L1}  &       0.0114  &        0.696     &     0.016  &         0.987        &       -1.353    &        1.376     \\\\\n",
       "\\textbf{ar.L2}  &      -0.0612  &        0.195     &    -0.314  &         0.754        &       -0.443    &        0.321     \\\\\n",
       "\\textbf{ar.L3}  &      -0.0211  &        0.354     &    -0.060  &         0.952        &       -0.715    &        0.672     \\\\\n",
       "\\textbf{ar.L4}  &       0.0334  &        0.417     &     0.080  &         0.936        &       -0.785    &        0.851     \\\\\n",
       "\\textbf{ar.L5}  &       0.0026  &        0.291     &     0.009  &         0.993        &       -0.567    &        0.572     \\\\\n",
       "\\textbf{sigma2} &    1.863e+06  &     9.63e+05     &     1.934  &         0.053        &    -2.47e+04    &     3.75e+06     \\\\\n",
       "\\bottomrule\n",
       "\\end{tabular}\n",
       "\\begin{tabular}{lclc}\n",
       "\\textbf{Ljung-Box (L1) (Q):}     & 0.02 & \\textbf{  Jarque-Bera (JB):  } &  6.32  \\\\\n",
       "\\textbf{Prob(Q):}                & 0.88 & \\textbf{  Prob(JB):          } &  0.04  \\\\\n",
       "\\textbf{Heteroskedasticity (H):} & 0.52 & \\textbf{  Skew:              } & -1.17  \\\\\n",
       "\\textbf{Prob(H) (two-sided):}    & 0.45 & \\textbf{  Kurtosis:          } &  4.72  \\\\\n",
       "\\bottomrule\n",
       "\\end{tabular}\n",
       "%\\caption{SARIMAX Results}\n",
       "\\end{center}\n",
       "\n",
       "Warnings: \\newline\n",
       " [1] Covariance matrix calculated using the outer product of gradients (complex-step)."
      ],
      "text/plain": [
       "<class 'statsmodels.iolib.summary.Summary'>\n",
       "\"\"\"\n",
       "                               SARIMAX Results                                \n",
       "==============================================================================\n",
       "Dep. Variable:                   High   No. Observations:                   19\n",
       "Model:                 ARIMA(5, 1, 0)   Log Likelihood                -153.758\n",
       "Date:                Sun, 05 May 2024   AIC                            319.517\n",
       "Time:                        11:32:22   BIC                            324.859\n",
       "Sample:                             0   HQIC                           320.254\n",
       "                                 - 19                                         \n",
       "Covariance Type:                  opg                                         \n",
       "==============================================================================\n",
       "                 coef    std err          z      P>|z|      [0.025      0.975]\n",
       "------------------------------------------------------------------------------\n",
       "ar.L1          0.0114      0.696      0.016      0.987      -1.353       1.376\n",
       "ar.L2         -0.0612      0.195     -0.314      0.754      -0.443       0.321\n",
       "ar.L3         -0.0211      0.354     -0.060      0.952      -0.715       0.672\n",
       "ar.L4          0.0334      0.417      0.080      0.936      -0.785       0.851\n",
       "ar.L5          0.0026      0.291      0.009      0.993      -0.567       0.572\n",
       "sigma2      1.863e+06   9.63e+05      1.934      0.053   -2.47e+04    3.75e+06\n",
       "===================================================================================\n",
       "Ljung-Box (L1) (Q):                   0.02   Jarque-Bera (JB):                 6.32\n",
       "Prob(Q):                              0.88   Prob(JB):                         0.04\n",
       "Heteroskedasticity (H):               0.52   Skew:                            -1.17\n",
       "Prob(H) (two-sided):                  0.45   Kurtosis:                         4.72\n",
       "===================================================================================\n",
       "\n",
       "Warnings:\n",
       "[1] Covariance matrix calculated using the outer product of gradients (complex-step).\n",
       "\"\"\""
      ]
     },
     "execution_count": 58,
     "metadata": {},
     "output_type": "execute_result"
    }
   ],
   "source": [
    "model_fit.summary()"
   ]
  },
  {
   "cell_type": "code",
   "execution_count": 39,
   "metadata": {},
   "outputs": [
    {
     "name": "stdout",
     "output_type": "stream",
     "text": [
      "Root Mean Squared Error (RMSE): 2623.21\n",
      "            High Prediction\n",
      "2024-06-01         40789.48\n",
      "2024-07-01         40710.28\n",
      "2024-08-01         40709.18\n",
      "2024-09-01         40732.73\n",
      "2024-10-01         40734.29\n",
      "2024-11-01         40735.12\n",
      "2024-12-01         40733.72\n"
     ]
    },
    {
     "name": "stderr",
     "output_type": "stream",
     "text": [
      "c:\\Users\\neelk\\AppData\\Local\\Programs\\Python\\Python311\\Lib\\site-packages\\statsmodels\\tsa\\base\\tsa_model.py:473: ValueWarning: No frequency information was provided, so inferred frequency -1MS will be used.\n",
      "  self._init_dates(dates, freq)\n",
      "c:\\Users\\neelk\\AppData\\Local\\Programs\\Python\\Python311\\Lib\\site-packages\\statsmodels\\tsa\\base\\tsa_model.py:473: ValueWarning: A date index has been provided, but it is not monotonic and so will be ignored when e.g. forecasting.\n",
      "  self._init_dates(dates, freq)\n",
      "c:\\Users\\neelk\\AppData\\Local\\Programs\\Python\\Python311\\Lib\\site-packages\\statsmodels\\tsa\\base\\tsa_model.py:473: ValueWarning: No frequency information was provided, so inferred frequency -1MS will be used.\n",
      "  self._init_dates(dates, freq)\n",
      "c:\\Users\\neelk\\AppData\\Local\\Programs\\Python\\Python311\\Lib\\site-packages\\statsmodels\\tsa\\base\\tsa_model.py:473: ValueWarning: A date index has been provided, but it is not monotonic and so will be ignored when e.g. forecasting.\n",
      "  self._init_dates(dates, freq)\n",
      "c:\\Users\\neelk\\AppData\\Local\\Programs\\Python\\Python311\\Lib\\site-packages\\statsmodels\\tsa\\base\\tsa_model.py:473: ValueWarning: No frequency information was provided, so inferred frequency -1MS will be used.\n",
      "  self._init_dates(dates, freq)\n",
      "c:\\Users\\neelk\\AppData\\Local\\Programs\\Python\\Python311\\Lib\\site-packages\\statsmodels\\tsa\\base\\tsa_model.py:473: ValueWarning: A date index has been provided, but it is not monotonic and so will be ignored when e.g. forecasting.\n",
      "  self._init_dates(dates, freq)\n",
      "c:\\Users\\neelk\\AppData\\Local\\Programs\\Python\\Python311\\Lib\\site-packages\\statsmodels\\tsa\\base\\tsa_model.py:836: ValueWarning: No supported index is available. Prediction results will be given with an integer index beginning at `start`.\n",
      "  return get_prediction_index(\n",
      "c:\\Users\\neelk\\AppData\\Local\\Programs\\Python\\Python311\\Lib\\site-packages\\statsmodels\\tsa\\base\\tsa_model.py:836: FutureWarning: No supported index is available. In the next version, calling this method in a model without a supported index will result in an exception.\n",
      "  return get_prediction_index(\n",
      "c:\\Users\\neelk\\AppData\\Local\\Programs\\Python\\Python311\\Lib\\site-packages\\statsmodels\\tsa\\base\\tsa_model.py:836: ValueWarning: No supported index is available. Prediction results will be given with an integer index beginning at `start`.\n",
      "  return get_prediction_index(\n",
      "c:\\Users\\neelk\\AppData\\Local\\Programs\\Python\\Python311\\Lib\\site-packages\\statsmodels\\tsa\\base\\tsa_model.py:836: FutureWarning: No supported index is available. In the next version, calling this method in a model without a supported index will result in an exception.\n",
      "  return get_prediction_index(\n"
     ]
    }
   ],
   "source": [
    "\n",
    "# Split data into training and testing sets\n",
    "train_size = int(len(df) * 0.8)\n",
    "train_data, test_data = df.iloc[:train_size], df.iloc[train_size:]\n",
    "\n",
    "# Define and fit the ARIMA model\n",
    "model = ARIMA(train_data['Low'], order=(5, 1, 0))  # Example ARIMA order\n",
    "model_fit = model.fit()\n",
    "\n",
    "# Make predictions\n",
    "predictions = model_fit.forecast(steps=len(test_data))\n",
    "\n",
    "# Evaluate the model\n",
    "mse = mean_squared_error(test_data['High'], predictions)\n",
    "rmse = np.sqrt(mse)\n",
    "print(f'Root Mean Squared Error (RMSE): {rmse:.2f}')\n",
    "\n",
    "# Forecast future prices\n",
    "future_dates = pd.date_range(start='2024-06-01', periods=7, freq='MS')\n",
    "future_predictions = model_fit.forecast(steps=7)\n",
    "future_predictions = [round(pred, 2) for pred in future_predictions]\n",
    "\n",
    "# Print forecasted prices\n",
    "future_forecast = pd.DataFrame(future_predictions, index=future_dates, columns=['High Prediction'])\n",
    "print(future_forecast)"
   ]
  }
 ],
 "metadata": {
  "kernelspec": {
   "display_name": "Python 3",
   "language": "python",
   "name": "python3"
  },
  "language_info": {
   "codemirror_mode": {
    "name": "ipython",
    "version": 3
   },
   "file_extension": ".py",
   "mimetype": "text/x-python",
   "name": "python",
   "nbconvert_exporter": "python",
   "pygments_lexer": "ipython3",
   "version": "3.11.4"
  }
 },
 "nbformat": 4,
 "nbformat_minor": 2
}
